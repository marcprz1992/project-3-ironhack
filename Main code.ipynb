{
 "cells": [
  {
   "cell_type": "code",
   "execution_count": 1,
   "id": "2f8b298c",
   "metadata": {},
   "outputs": [],
   "source": [
    "import requests\n",
    "from pymongo import MongoClient\n",
    "from pymongo import GEOSPHERE\n",
    "import pandas as pd\n",
    "import json"
   ]
  },
  {
   "cell_type": "code",
   "execution_count": 3,
   "id": "b154698c",
   "metadata": {},
   "outputs": [],
   "source": [
    "designers = 20\n",
    "ui_ux_engineers = 5\n",
    "frontend_dev = 10\n",
    "data_engineers = 15\n",
    "backend_dev = 5\n",
    "account_managers = 20\n",
    "maint = 1\n",
    "executives = 10\n",
    "ceo = 1"
   ]
  },
  {
   "cell_type": "code",
   "execution_count": 5,
   "id": "af82f0df",
   "metadata": {},
   "outputs": [],
   "source": [
    "total_company = designers + ui_ux_engineers + frontend_dev + data_engineers + backend_dev + account_managers + maint + executives + ceo"
   ]
  },
  {
   "cell_type": "code",
   "execution_count": 6,
   "id": "17629844",
   "metadata": {},
   "outputs": [
    {
     "data": {
      "text/plain": [
       "87"
      ]
     },
     "execution_count": 6,
     "metadata": {},
     "output_type": "execute_result"
    }
   ],
   "source": [
    "total_company"
   ]
  },
  {
   "cell_type": "code",
   "execution_count": 11,
   "id": "c6c746ee",
   "metadata": {},
   "outputs": [],
   "source": [
    "def weighted_colleague(string):\n",
    "    return (string/total_company)*100"
   ]
  },
  {
   "cell_type": "code",
   "execution_count": 12,
   "id": "490a9a9b",
   "metadata": {},
   "outputs": [
    {
     "data": {
      "text/plain": [
       "22.988505747126435"
      ]
     },
     "execution_count": 12,
     "metadata": {},
     "output_type": "execute_result"
    }
   ],
   "source": [
    "weighted_colleague(designers)"
   ]
  },
  {
   "cell_type": "code",
   "execution_count": 13,
   "id": "76c1e0e9",
   "metadata": {},
   "outputs": [
    {
     "data": {
      "text/plain": [
       "5.747126436781609"
      ]
     },
     "execution_count": 13,
     "metadata": {},
     "output_type": "execute_result"
    }
   ],
   "source": [
    "weighted_colleague(ui_ux_engineers)"
   ]
  },
  {
   "cell_type": "code",
   "execution_count": 14,
   "id": "4f74fcd5",
   "metadata": {},
   "outputs": [
    {
     "data": {
      "text/plain": [
       "11.494252873563218"
      ]
     },
     "execution_count": 14,
     "metadata": {},
     "output_type": "execute_result"
    }
   ],
   "source": [
    "weighted_colleague(frontend_dev)"
   ]
  },
  {
   "cell_type": "code",
   "execution_count": 15,
   "id": "63cc57e3",
   "metadata": {},
   "outputs": [
    {
     "data": {
      "text/plain": [
       "17.24137931034483"
      ]
     },
     "execution_count": 15,
     "metadata": {},
     "output_type": "execute_result"
    }
   ],
   "source": [
    "weighted_colleague(data_engineers)"
   ]
  },
  {
   "cell_type": "code",
   "execution_count": 16,
   "id": "2aeac378",
   "metadata": {},
   "outputs": [
    {
     "data": {
      "text/plain": [
       "5.747126436781609"
      ]
     },
     "execution_count": 16,
     "metadata": {},
     "output_type": "execute_result"
    }
   ],
   "source": [
    "weighted_colleague(backend_dev)"
   ]
  },
  {
   "cell_type": "code",
   "execution_count": 17,
   "id": "fe6c8c7e",
   "metadata": {},
   "outputs": [
    {
     "data": {
      "text/plain": [
       "1.1494252873563218"
      ]
     },
     "execution_count": 17,
     "metadata": {},
     "output_type": "execute_result"
    }
   ],
   "source": [
    "weighted_colleague(maint)"
   ]
  },
  {
   "cell_type": "code",
   "execution_count": 18,
   "id": "4d506d76",
   "metadata": {},
   "outputs": [
    {
     "data": {
      "text/plain": [
       "22.988505747126435"
      ]
     },
     "execution_count": 18,
     "metadata": {},
     "output_type": "execute_result"
    }
   ],
   "source": [
    "weighted_colleague(account_managers)"
   ]
  },
  {
   "cell_type": "code",
   "execution_count": 19,
   "id": "32a56888",
   "metadata": {},
   "outputs": [
    {
     "data": {
      "text/plain": [
       "11.494252873563218"
      ]
     },
     "execution_count": 19,
     "metadata": {},
     "output_type": "execute_result"
    }
   ],
   "source": [
    "weighted_colleague(executives)"
   ]
  },
  {
   "cell_type": "code",
   "execution_count": 20,
   "id": "cf5fe6e8",
   "metadata": {},
   "outputs": [
    {
     "data": {
      "text/plain": [
       "1.1494252873563218"
      ]
     },
     "execution_count": 20,
     "metadata": {},
     "output_type": "execute_result"
    }
   ],
   "source": [
    "weighted_colleague(ceo)"
   ]
  },
  {
   "cell_type": "code",
   "execution_count": 21,
   "id": "5ff06a99",
   "metadata": {},
   "outputs": [],
   "source": [
    "from pymongo import MongoClient\n",
    "client = MongoClient(\"localhost:27017\")"
   ]
  },
  {
   "cell_type": "code",
   "execution_count": 22,
   "id": "cc0d684a",
   "metadata": {},
   "outputs": [],
   "source": [
    "db = client[\"Ironhack\"]\n",
    "c = db.get_collection(\"companies\")"
   ]
  },
  {
   "cell_type": "code",
   "execution_count": 27,
   "id": "4eacb658",
   "metadata": {},
   "outputs": [
    {
     "data": {
      "text/plain": [
       "[{'name': '99designs',\n",
       "  'category_code': 'design',\n",
       "  'offices': [{'city': 'San Francisco', 'country_code': 'USA'},\n",
       "   {'city': 'Collingwood', 'country_code': 'AUS'},\n",
       "   {'city': 'Berlin', 'country_code': 'DEU'}]},\n",
       " {'name': 'Graticle',\n",
       "  'category_code': 'design',\n",
       "  'offices': [{'city': 'Ellensburg', 'country_code': 'USA'}]},\n",
       " {'name': 'Kickstarter',\n",
       "  'category_code': 'design',\n",
       "  'offices': [{'city': 'Brooklyn', 'country_code': 'USA'}]},\n",
       " {'name': 'Moonfruit',\n",
       "  'category_code': 'design',\n",
       "  'offices': [{'city': 'London', 'country_code': 'GBR'}]}]"
      ]
     },
     "execution_count": 27,
     "metadata": {},
     "output_type": "execute_result"
    }
   ],
   "source": [
    "filter_one = {\"category_code\":\"design\"}\n",
    "filter_two = {\"category_code\":\"design\"} \n",
    "projection = {\"name\":1,\"category_code\": 1, \"offices.country_code\": 1,\"offices.city\": 1, \"_id\":0}\n",
    "result_design = list(c.find(filter_, projection))\n",
    "result_design\n",
    "\n",
    "filter_one = {\"founded_year\": {\"$gte\": 2000}}\n",
    "filter_two = {\"founded_year\": {\"$lte\": 2005}}\n",
    "all_conditions = [filter_one,filter_two]\n",
    "projection = {\"name\":1,\"founded_year\":1, \"_id\":0}\n",
    "\n",
    "result_three = list(c.find({\"$and\":all_conditions},projection))[:10]\n",
    "result_three"
   ]
  }
 ],
 "metadata": {
  "kernelspec": {
   "display_name": "ironhack",
   "language": "python",
   "name": "ironhack"
  },
  "language_info": {
   "codemirror_mode": {
    "name": "ipython",
    "version": 3
   },
   "file_extension": ".py",
   "mimetype": "text/x-python",
   "name": "python",
   "nbconvert_exporter": "python",
   "pygments_lexer": "ipython3",
   "version": "3.10.4"
  }
 },
 "nbformat": 4,
 "nbformat_minor": 5
}
